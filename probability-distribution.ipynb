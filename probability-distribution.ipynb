{
 "cells": [
  {
   "cell_type": "markdown",
   "metadata": {},
   "source": [
    "### Problem Statement:\n",
    "\n",
    "A test is conducted which is consisting of 20 MCQs (multiple choices questions) with every MCQ having its four options out of which only one is correct. Determine the probability that a person undertaking that test has answered exactly 5 questions wrong."
   ]
  },
  {
   "cell_type": "code",
   "execution_count": 1,
   "metadata": {},
   "outputs": [],
   "source": [
    "import math"
   ]
  },
  {
   "cell_type": "markdown",
   "metadata": {},
   "source": [
    "#### Probability distribution for binomial experiment. ###\n",
    "\n",
    "#### p(x) = n! / (x! * (n−x)!) * p^x * (1−p)^(n−x) "
   ]
  },
  {
   "cell_type": "code",
   "execution_count": 3,
   "metadata": {},
   "outputs": [
    {
     "name": "stdout",
     "output_type": "stream",
     "text": [
      "The probability that a person undertaking that test has answered exactly 5 questions wrong is = 0.0000034\n"
     ]
    }
   ],
   "source": [
    "# Total questions / number of trials\n",
    "n = 20 \n",
    "\n",
    "# Find probability of answering exactly 5 questions wrong or exactly 15 questions right.\n",
    "x = 15 \n",
    "\n",
    "# Probability of success (1 correct answer out of 4 multiple choices)\n",
    "ps = 1/4 \n",
    "\n",
    "# Probability of failure\n",
    "pf = 3/4 \n",
    "\n",
    "px = (math.factorial(n) / (math.factorial(x) * math.factorial(n-x))) * pow(ps, x) * pow(pf, n-x)\n",
    "\n",
    "print(\"The probability that a person undertaking that test has answered exactly 5 questions wrong is =\", format(px, '.7f'))"
   ]
  }
 ],
 "metadata": {
  "kernelspec": {
   "display_name": "Python 3",
   "language": "python",
   "name": "python3"
  },
  "language_info": {
   "codemirror_mode": {
    "name": "ipython",
    "version": 3
   },
   "file_extension": ".py",
   "mimetype": "text/x-python",
   "name": "python",
   "nbconvert_exporter": "python",
   "pygments_lexer": "ipython3",
   "version": "3.6.5"
  }
 },
 "nbformat": 4,
 "nbformat_minor": 2
}
