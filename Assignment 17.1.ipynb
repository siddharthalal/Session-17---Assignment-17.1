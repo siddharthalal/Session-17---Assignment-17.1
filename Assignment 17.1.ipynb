{
 "cells": [
  {
   "cell_type": "code",
   "execution_count": 1,
   "metadata": {},
   "outputs": [
    {
     "name": "stdout",
     "output_type": "stream",
     "text": [
      "The probability that a person undertaking that test has answered exactly 5 questions wrong is = 0.0000034\n"
     ]
    }
   ],
   "source": [
    "'''\n",
    "Problem Statement 1:\n",
    "\n",
    "A test is conducted which is consisting of 20 MCQs (multiple choices questions) with\n",
    "every MCQ having its four options out of which only one is correct. Determine the\n",
    "probability that a person undertaking that test has answered exactly 5 questions wrong.\n",
    "\n",
    "'''\n",
    "\n",
    "import math\n",
    "\n",
    "### probability distribution for binomial experiment. ###\n",
    "\n",
    "### p(x) = n! / (x! * (n−x)!) * p^x * (1−p)^(n−x) \n",
    "\n",
    "# total questions / number of trials\n",
    "n = 20 \n",
    "\n",
    "# Answering exactly 5 questions wrong or exactly 15 questions right.\n",
    "x = 15 \n",
    "\n",
    "# probability of success (1 correct answer out of 4 multiple choices)\n",
    "ps = 1/4 \n",
    "\n",
    "# probability of failure\n",
    "pf = 3/4 \n",
    "\n",
    "px = (math.factorial(n) / (math.factorial(x) * math.factorial(n-x))) * pow(ps, x) * pow(pf, n-x)\n",
    "\n",
    "print(\"The probability that a person undertaking that test has answered exactly 5 questions wrong is =\", format(px, '.7f'))"
   ]
  },
  {
   "cell_type": "code",
   "execution_count": null,
   "metadata": {
    "collapsed": true
   },
   "outputs": [],
   "source": []
  }
 ],
 "metadata": {
  "kernelspec": {
   "display_name": "Python 3",
   "language": "python",
   "name": "python3"
  },
  "language_info": {
   "codemirror_mode": {
    "name": "ipython",
    "version": 3
   },
   "file_extension": ".py",
   "mimetype": "text/x-python",
   "name": "python",
   "nbconvert_exporter": "python",
   "pygments_lexer": "ipython3",
   "version": "3.6.5"
  }
 },
 "nbformat": 4,
 "nbformat_minor": 2
}
